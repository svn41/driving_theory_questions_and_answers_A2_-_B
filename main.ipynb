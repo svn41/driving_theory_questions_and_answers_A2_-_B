{
 "cells": [
  {
   "cell_type": "code",
   "execution_count": 183,
   "id": "a350fcad-6cc9-43be-9862-be9efb797763",
   "metadata": {},
   "outputs": [],
   "source": [
    "################################################ Necessary Libraries ##################################\n",
    "import os, random, sys, time\n",
    "import pandas as pd\n",
    "from selenium import webdriver\n",
    "from selenium.webdriver.common.keys import Keys\n",
    "from selenium.webdriver.common.by import By\n",
    "from selenium.webdriver.support.wait import WebDriverWait\n",
    "from webdriver_manager.chrome import ChromeDriverManager\n",
    "from selenium.webdriver.common.action_chains import ActionChains\n",
    "import requests"
   ]
  },
  {
   "cell_type": "code",
   "execution_count": 177,
   "id": "93923a3c-924f-4daa-a3ec-3c346e395a1a",
   "metadata": {},
   "outputs": [],
   "source": [
    "################################################## read credentials  from saved file #######################################\n",
    "file = open(\"c:/Users/SVN41/Google Drive/Paython 3/driving_theory_questions_and_answers_A2_-_B/credentials.txt\")\n",
    "lines = file.readlines()\n",
    "username = lines[0]\n",
    "password = lines[1]\n",
    "website = lines[2]\n",
    "lerning_page = lines[3]\n",
    "practice_by_topic_page = lines[4]"
   ]
  },
  {
   "cell_type": "code",
   "execution_count": 178,
   "id": "1960c031-99cc-4259-a984-447f9b504c0e",
   "metadata": {
    "collapsed": true,
    "jupyter": {
     "outputs_hidden": true
    },
    "tags": []
   },
   "outputs": [
    {
     "name": "stderr",
     "output_type": "stream",
     "text": [
      "\n",
      "\n",
      "====== WebDriver manager ======\n",
      "Current google-chrome version is 111.0.5563\n",
      "Get LATEST chromedriver version for 111.0.5563 google-chrome\n",
      "Trying to download new driver from https://chromedriver.storage.googleapis.com/111.0.5563.64/chromedriver_win32.zip\n",
      "Driver has been saved in cache [C:\\Users\\SVN41\\.wdm\\drivers\\chromedriver\\win32\\111.0.5563.64]\n"
     ]
    }
   ],
   "source": [
    "####################################################### configure chrome driver ##########################################\n",
    "\n",
    "browser =  webdriver.Chrome(ChromeDriverManager().install())\n",
    "browser.get(lerning_page)\n",
    "browser.maximize_window()\n",
    "time.sleep(4)"
   ]
  },
  {
   "cell_type": "code",
   "execution_count": 179,
   "id": "65662611-c612-41d0-afda-3815cb2e531c",
   "metadata": {
    "collapsed": true,
    "jupyter": {
     "outputs_hidden": true
    },
    "tags": []
   },
   "outputs": [
    {
     "ename": "StaleElementReferenceException",
     "evalue": "Message: stale element reference: element is not attached to the page document\n  (Session info: chrome=111.0.5563.64)\n",
     "output_type": "error",
     "traceback": [
      "\u001b[1;31m---------------------------------------------------------------------------\u001b[0m",
      "\u001b[1;31mStaleElementReferenceException\u001b[0m            Traceback (most recent call last)",
      "\u001b[1;32m<ipython-input-179-9525bcc791b2>\u001b[0m in \u001b[0;36m<module>\u001b[1;34m\u001b[0m\n\u001b[0;32m      6\u001b[0m \u001b[0melementID\u001b[0m \u001b[1;33m=\u001b[0m \u001b[0mbrowser\u001b[0m\u001b[1;33m.\u001b[0m\u001b[0mfind_element_by_xpath\u001b[0m\u001b[1;33m(\u001b[0m\u001b[1;34m\"//*[@id='frmLogin']/div[6]/input\"\u001b[0m\u001b[1;33m)\u001b[0m\u001b[1;33m\u001b[0m\u001b[1;33m\u001b[0m\u001b[0m\n\u001b[0;32m      7\u001b[0m \u001b[0melementID\u001b[0m\u001b[1;33m.\u001b[0m\u001b[0msend_keys\u001b[0m\u001b[1;33m(\u001b[0m\u001b[0mpassword\u001b[0m\u001b[1;33m)\u001b[0m\u001b[1;33m\u001b[0m\u001b[1;33m\u001b[0m\u001b[0m\n\u001b[1;32m----> 8\u001b[1;33m \u001b[0melementID\u001b[0m\u001b[1;33m.\u001b[0m\u001b[0msubmit\u001b[0m\u001b[1;33m(\u001b[0m\u001b[1;33m)\u001b[0m\u001b[1;33m\u001b[0m\u001b[1;33m\u001b[0m\u001b[0m\n\u001b[0m\u001b[0;32m      9\u001b[0m \u001b[0mtime\u001b[0m\u001b[1;33m.\u001b[0m\u001b[0msleep\u001b[0m\u001b[1;33m(\u001b[0m\u001b[1;36m4\u001b[0m\u001b[1;33m)\u001b[0m\u001b[1;33m\u001b[0m\u001b[1;33m\u001b[0m\u001b[0m\n",
      "\u001b[1;32m~\\Anaconda3\\lib\\site-packages\\selenium\\webdriver\\remote\\webelement.py\u001b[0m in \u001b[0;36msubmit\u001b[1;34m(self)\u001b[0m\n\u001b[0;32m     83\u001b[0m         \u001b[1;34m\"\"\"Submits a form.\"\"\"\u001b[0m\u001b[1;33m\u001b[0m\u001b[1;33m\u001b[0m\u001b[0m\n\u001b[0;32m     84\u001b[0m         \u001b[1;32mif\u001b[0m \u001b[0mself\u001b[0m\u001b[1;33m.\u001b[0m\u001b[0m_w3c\u001b[0m\u001b[1;33m:\u001b[0m\u001b[1;33m\u001b[0m\u001b[1;33m\u001b[0m\u001b[0m\n\u001b[1;32m---> 85\u001b[1;33m             \u001b[0mform\u001b[0m \u001b[1;33m=\u001b[0m \u001b[0mself\u001b[0m\u001b[1;33m.\u001b[0m\u001b[0mfind_element\u001b[0m\u001b[1;33m(\u001b[0m\u001b[0mBy\u001b[0m\u001b[1;33m.\u001b[0m\u001b[0mXPATH\u001b[0m\u001b[1;33m,\u001b[0m \u001b[1;34m\"./ancestor-or-self::form\"\u001b[0m\u001b[1;33m)\u001b[0m\u001b[1;33m\u001b[0m\u001b[1;33m\u001b[0m\u001b[0m\n\u001b[0m\u001b[0;32m     86\u001b[0m             self._parent.execute_script(\n\u001b[0;32m     87\u001b[0m                 \u001b[1;34m\"var e = arguments[0].ownerDocument.createEvent('Event');\"\u001b[0m\u001b[1;33m\u001b[0m\u001b[1;33m\u001b[0m\u001b[0m\n",
      "\u001b[1;32m~\\Anaconda3\\lib\\site-packages\\selenium\\webdriver\\remote\\webelement.py\u001b[0m in \u001b[0;36mfind_element\u001b[1;34m(self, by, value)\u001b[0m\n\u001b[0;32m    657\u001b[0m \u001b[1;33m\u001b[0m\u001b[0m\n\u001b[0;32m    658\u001b[0m         return self._execute(Command.FIND_CHILD_ELEMENT,\n\u001b[1;32m--> 659\u001b[1;33m                              {\"using\": by, \"value\": value})['value']\n\u001b[0m\u001b[0;32m    660\u001b[0m \u001b[1;33m\u001b[0m\u001b[0m\n\u001b[0;32m    661\u001b[0m     \u001b[1;32mdef\u001b[0m \u001b[0mfind_elements\u001b[0m\u001b[1;33m(\u001b[0m\u001b[0mself\u001b[0m\u001b[1;33m,\u001b[0m \u001b[0mby\u001b[0m\u001b[1;33m=\u001b[0m\u001b[0mBy\u001b[0m\u001b[1;33m.\u001b[0m\u001b[0mID\u001b[0m\u001b[1;33m,\u001b[0m \u001b[0mvalue\u001b[0m\u001b[1;33m=\u001b[0m\u001b[1;32mNone\u001b[0m\u001b[1;33m)\u001b[0m\u001b[1;33m:\u001b[0m\u001b[1;33m\u001b[0m\u001b[1;33m\u001b[0m\u001b[0m\n",
      "\u001b[1;32m~\\Anaconda3\\lib\\site-packages\\selenium\\webdriver\\remote\\webelement.py\u001b[0m in \u001b[0;36m_execute\u001b[1;34m(self, command, params)\u001b[0m\n\u001b[0;32m    631\u001b[0m             \u001b[0mparams\u001b[0m \u001b[1;33m=\u001b[0m \u001b[1;33m{\u001b[0m\u001b[1;33m}\u001b[0m\u001b[1;33m\u001b[0m\u001b[1;33m\u001b[0m\u001b[0m\n\u001b[0;32m    632\u001b[0m         \u001b[0mparams\u001b[0m\u001b[1;33m[\u001b[0m\u001b[1;34m'id'\u001b[0m\u001b[1;33m]\u001b[0m \u001b[1;33m=\u001b[0m \u001b[0mself\u001b[0m\u001b[1;33m.\u001b[0m\u001b[0m_id\u001b[0m\u001b[1;33m\u001b[0m\u001b[1;33m\u001b[0m\u001b[0m\n\u001b[1;32m--> 633\u001b[1;33m         \u001b[1;32mreturn\u001b[0m \u001b[0mself\u001b[0m\u001b[1;33m.\u001b[0m\u001b[0m_parent\u001b[0m\u001b[1;33m.\u001b[0m\u001b[0mexecute\u001b[0m\u001b[1;33m(\u001b[0m\u001b[0mcommand\u001b[0m\u001b[1;33m,\u001b[0m \u001b[0mparams\u001b[0m\u001b[1;33m)\u001b[0m\u001b[1;33m\u001b[0m\u001b[1;33m\u001b[0m\u001b[0m\n\u001b[0m\u001b[0;32m    634\u001b[0m \u001b[1;33m\u001b[0m\u001b[0m\n\u001b[0;32m    635\u001b[0m     \u001b[1;32mdef\u001b[0m \u001b[0mfind_element\u001b[0m\u001b[1;33m(\u001b[0m\u001b[0mself\u001b[0m\u001b[1;33m,\u001b[0m \u001b[0mby\u001b[0m\u001b[1;33m=\u001b[0m\u001b[0mBy\u001b[0m\u001b[1;33m.\u001b[0m\u001b[0mID\u001b[0m\u001b[1;33m,\u001b[0m \u001b[0mvalue\u001b[0m\u001b[1;33m=\u001b[0m\u001b[1;32mNone\u001b[0m\u001b[1;33m)\u001b[0m\u001b[1;33m:\u001b[0m\u001b[1;33m\u001b[0m\u001b[1;33m\u001b[0m\u001b[0m\n",
      "\u001b[1;32m~\\Anaconda3\\lib\\site-packages\\selenium\\webdriver\\remote\\webdriver.py\u001b[0m in \u001b[0;36mexecute\u001b[1;34m(self, driver_command, params)\u001b[0m\n\u001b[0;32m    319\u001b[0m         \u001b[0mresponse\u001b[0m \u001b[1;33m=\u001b[0m \u001b[0mself\u001b[0m\u001b[1;33m.\u001b[0m\u001b[0mcommand_executor\u001b[0m\u001b[1;33m.\u001b[0m\u001b[0mexecute\u001b[0m\u001b[1;33m(\u001b[0m\u001b[0mdriver_command\u001b[0m\u001b[1;33m,\u001b[0m \u001b[0mparams\u001b[0m\u001b[1;33m)\u001b[0m\u001b[1;33m\u001b[0m\u001b[1;33m\u001b[0m\u001b[0m\n\u001b[0;32m    320\u001b[0m         \u001b[1;32mif\u001b[0m \u001b[0mresponse\u001b[0m\u001b[1;33m:\u001b[0m\u001b[1;33m\u001b[0m\u001b[1;33m\u001b[0m\u001b[0m\n\u001b[1;32m--> 321\u001b[1;33m             \u001b[0mself\u001b[0m\u001b[1;33m.\u001b[0m\u001b[0merror_handler\u001b[0m\u001b[1;33m.\u001b[0m\u001b[0mcheck_response\u001b[0m\u001b[1;33m(\u001b[0m\u001b[0mresponse\u001b[0m\u001b[1;33m)\u001b[0m\u001b[1;33m\u001b[0m\u001b[1;33m\u001b[0m\u001b[0m\n\u001b[0m\u001b[0;32m    322\u001b[0m             response['value'] = self._unwrap_value(\n\u001b[0;32m    323\u001b[0m                 response.get('value', None))\n",
      "\u001b[1;32m~\\Anaconda3\\lib\\site-packages\\selenium\\webdriver\\remote\\errorhandler.py\u001b[0m in \u001b[0;36mcheck_response\u001b[1;34m(self, response)\u001b[0m\n\u001b[0;32m    240\u001b[0m                 \u001b[0malert_text\u001b[0m \u001b[1;33m=\u001b[0m \u001b[0mvalue\u001b[0m\u001b[1;33m[\u001b[0m\u001b[1;34m'alert'\u001b[0m\u001b[1;33m]\u001b[0m\u001b[1;33m.\u001b[0m\u001b[0mget\u001b[0m\u001b[1;33m(\u001b[0m\u001b[1;34m'text'\u001b[0m\u001b[1;33m)\u001b[0m\u001b[1;33m\u001b[0m\u001b[1;33m\u001b[0m\u001b[0m\n\u001b[0;32m    241\u001b[0m             \u001b[1;32mraise\u001b[0m \u001b[0mexception_class\u001b[0m\u001b[1;33m(\u001b[0m\u001b[0mmessage\u001b[0m\u001b[1;33m,\u001b[0m \u001b[0mscreen\u001b[0m\u001b[1;33m,\u001b[0m \u001b[0mstacktrace\u001b[0m\u001b[1;33m,\u001b[0m \u001b[0malert_text\u001b[0m\u001b[1;33m)\u001b[0m\u001b[1;33m\u001b[0m\u001b[1;33m\u001b[0m\u001b[0m\n\u001b[1;32m--> 242\u001b[1;33m         \u001b[1;32mraise\u001b[0m \u001b[0mexception_class\u001b[0m\u001b[1;33m(\u001b[0m\u001b[0mmessage\u001b[0m\u001b[1;33m,\u001b[0m \u001b[0mscreen\u001b[0m\u001b[1;33m,\u001b[0m \u001b[0mstacktrace\u001b[0m\u001b[1;33m)\u001b[0m\u001b[1;33m\u001b[0m\u001b[1;33m\u001b[0m\u001b[0m\n\u001b[0m\u001b[0;32m    243\u001b[0m \u001b[1;33m\u001b[0m\u001b[0m\n\u001b[0;32m    244\u001b[0m     \u001b[1;32mdef\u001b[0m \u001b[0m_value_or_default\u001b[0m\u001b[1;33m(\u001b[0m\u001b[0mself\u001b[0m\u001b[1;33m,\u001b[0m \u001b[0mobj\u001b[0m\u001b[1;33m,\u001b[0m \u001b[0mkey\u001b[0m\u001b[1;33m,\u001b[0m \u001b[0mdefault\u001b[0m\u001b[1;33m)\u001b[0m\u001b[1;33m:\u001b[0m\u001b[1;33m\u001b[0m\u001b[1;33m\u001b[0m\u001b[0m\n",
      "\u001b[1;31mStaleElementReferenceException\u001b[0m: Message: stale element reference: element is not attached to the page document\n  (Session info: chrome=111.0.5563.64)\n"
     ]
    }
   ],
   "source": [
    "##################################################### Login ################################################################\n",
    "\n",
    "elementID = browser.find_element_by_xpath(\"//*[@id='frmLogin']/div[5]/input\")\n",
    "elementID.send_keys(username)\n",
    "\n",
    "elementID = browser.find_element_by_xpath(\"//*[@id='frmLogin']/div[6]/input\")\n",
    "elementID.send_keys(password)\n",
    "elementID.submit()\n",
    "time.sleep(4)"
   ]
  },
  {
   "cell_type": "code",
   "execution_count": 86,
   "id": "67f0d558-135f-47b8-9bd1-c8e69cd80749",
   "metadata": {},
   "outputs": [],
   "source": [
    "############################################## Get all chapter name #######################################################\n",
    "chapter_names = browser.find_elements_by_xpath(\"//*[@id='view40e0659d5da241a98e032b94715c28e9']/div/div\")\n",
    "\n",
    "main_chapter = []\n",
    "section= []\n",
    "\n",
    "for i in range(len(chapter_names)):\n",
    "    try:\n",
    "        main_chapter.append(chapter_name[i].text.split(\"\\n\")[0])\n",
    "    except:\n",
    "        chapter_name[i-1].click()\n",
    "        time.slip(4)\n",
    "        section.append()\n",
    "        "
   ]
  },
  {
   "cell_type": "code",
   "execution_count": 198,
   "id": "cd1fc86a-82a0-4417-9384-253eb70c34bf",
   "metadata": {},
   "outputs": [],
   "source": [
    "##################################################### Collect question and answer from every section of every chapter ##########################################\n",
    "df_q_n_a = pd.read_excel('qiestion_n_answer.xlsx')"
   ]
  },
  {
   "cell_type": "code",
   "execution_count": null,
   "id": "15bd44ed-3b30-497f-b680-fc54bbd41b50",
   "metadata": {
    "tags": []
   },
   "outputs": [
    {
     "name": "stdin",
     "output_type": "stream",
     "text": [
      "How many questions are there in a. Restriction of physical abilities section? 24\n",
      "How many questions are there in b. Alcohol section? 4\n",
      "How many questions are there in c. Illegal drugs and medicines section? 11\n"
     ]
    }
   ],
   "source": [
    "df_all_qna = pd. DataFrame()\n",
    "\n",
    "for index, row in df_q_n_a.iterrows():\n",
    "    \n",
    "    # i could make it dynamic and automated, but I am too lazy to do that\n",
    "    no_of_question = int(input(\"How many questions are there in {} section?\".format(row.Section)))\n",
    "    \n",
    "    all_question = []\n",
    "    for i in range(no_of_question):\n",
    "\n",
    "        question_text = browser.find_elements_by_xpath(\"//*[@id='siteInner']/div/div[9]/div[2]\")[0].text\n",
    "\n",
    "        if len(browser.find_elements_by_xpath(\"//*[@id='siteInner']/div/div[10]/div[3]/div[1]/div\")[0].text.split(\"\\n\")) > 3:\n",
    "            question_answer_start = browser.find_elements_by_xpath(\"//*[@id='siteInner']/div/div[10]/div[3]/div[1]/div\")[0].text.split(\"\\n\")[0]\n",
    "            question_answer_text1 = browser.find_elements_by_xpath(\"//*[@id='siteInner']/div/div[10]/div[3]/div[1]/div\")[0].text.split(\"\\n\")[-3]\n",
    "            question_answer_text2 = browser.find_elements_by_xpath(\"//*[@id='siteInner']/div/div[10]/div[3]/div[1]/div\")[0].text.split(\"\\n\")[-2]\n",
    "            question_answer_text3 = browser.find_elements_by_xpath(\"//*[@id='siteInner']/div/div[10]/div[3]/div[1]/div\")[0].text.split(\"\\n\")[-1]\n",
    "        else:\n",
    "            question_answer_start = \"\"\n",
    "            question_answer_text1 = browser.find_elements_by_xpath(\"//*[@id='siteInner']/div/div[10]/div[3]/div[1]/div\")[0].text.split(\"\\n\")[-3]\n",
    "            question_answer_text2 = browser.find_elements_by_xpath(\"//*[@id='siteInner']/div/div[10]/div[3]/div[1]/div\")[0].text.split(\"\\n\")[-2]\n",
    "            question_answer_text3 = browser.find_elements_by_xpath(\"//*[@id='siteInner']/div/div[10]/div[3]/div[1]/div\")[0].text.split(\"\\n\")[-1]\n",
    "\n",
    "        question_set = {\"Question\":question_text, \"question_answer_start\":question_answer_start, \"Answer1\":question_answer_text1, \"Answer2\":question_answer_text2,\"Answer3\":question_answer_text1}\n",
    "\n",
    "        all_question.append(question_set)\n",
    "\n",
    "        browser.find_element_by_xpath(\"//*[@id='siteInner']/div/div[10]/div[3]/div[2]/button[3]\").click()\n",
    "        time.sleep(2)\n",
    "        \n",
    "    df_section_qna = pd. DataFrame(all_question)\n",
    "    \n",
    "    df_section_qna['Chapter'] = row.Chapter\n",
    "    df_section_qna['Section'] = row.Section\n",
    "    \n",
    "    df_all_qna = pd.concat([df_all_qna, df_section_qna], axis=0, ignore_index=True)"
   ]
  },
  {
   "cell_type": "code",
   "execution_count": null,
   "id": "eea54dd5-98df-43b4-9695-27d4bd75ebbd",
   "metadata": {},
   "outputs": [],
   "source": []
  },
  {
   "cell_type": "code",
   "execution_count": 188,
   "id": "2d143aa7-9973-494b-b8f1-6074d1ee3402",
   "metadata": {},
   "outputs": [
    {
     "data": {
      "text/html": [
       "<div>\n",
       "<style scoped>\n",
       "    .dataframe tbody tr th:only-of-type {\n",
       "        vertical-align: middle;\n",
       "    }\n",
       "\n",
       "    .dataframe tbody tr th {\n",
       "        vertical-align: top;\n",
       "    }\n",
       "\n",
       "    .dataframe thead th {\n",
       "        text-align: right;\n",
       "    }\n",
       "</style>\n",
       "<table border=\"1\" class=\"dataframe\">\n",
       "  <thead>\n",
       "    <tr style=\"text-align: right;\">\n",
       "      <th></th>\n",
       "      <th>Chapter</th>\n",
       "      <th>Section</th>\n",
       "    </tr>\n",
       "  </thead>\n",
       "  <tbody>\n",
       "    <tr>\n",
       "      <th>0</th>\n",
       "      <td>Personal prerequisites / Human risk factor</td>\n",
       "      <td>a. Restriction of physical abilities</td>\n",
       "    </tr>\n",
       "    <tr>\n",
       "      <th>1</th>\n",
       "      <td>Personal prerequisites / Human risk factor</td>\n",
       "      <td>b. Alcohol</td>\n",
       "    </tr>\n",
       "    <tr>\n",
       "      <th>2</th>\n",
       "      <td>Personal prerequisites / Human risk factor</td>\n",
       "      <td>c. Illegal drugs and medicines</td>\n",
       "    </tr>\n",
       "    <tr>\n",
       "      <th>3</th>\n",
       "      <td>Personal prerequisites / Human risk factor</td>\n",
       "      <td>d. Emotions</td>\n",
       "    </tr>\n",
       "    <tr>\n",
       "      <th>4</th>\n",
       "      <td>Personal prerequisites / Human risk factor</td>\n",
       "      <td>e. Self-perception, rules of driving and roles...</td>\n",
       "    </tr>\n",
       "    <tr>\n",
       "      <th>...</th>\n",
       "      <td>...</td>\n",
       "      <td>...</td>\n",
       "    </tr>\n",
       "    <tr>\n",
       "      <th>72</th>\n",
       "      <td>Driving solo motor vehicles and trains, Transp...</td>\n",
       "      <td>b. Connecting and separating</td>\n",
       "    </tr>\n",
       "    <tr>\n",
       "      <th>73</th>\n",
       "      <td>Driving solo motor vehicles and trains, Transp...</td>\n",
       "      <td>c. Driving with trailers</td>\n",
       "    </tr>\n",
       "    <tr>\n",
       "      <th>74</th>\n",
       "      <td>Driving solo motor vehicles and trains, Transp...</td>\n",
       "      <td>d. Passenger transport</td>\n",
       "    </tr>\n",
       "    <tr>\n",
       "      <th>75</th>\n",
       "      <td>Driving solo motor vehicles and trains, Transp...</td>\n",
       "      <td>e. Goods transport</td>\n",
       "    </tr>\n",
       "    <tr>\n",
       "      <th>76</th>\n",
       "      <td>Driving solo motor vehicles and trains, Transp...</td>\n",
       "      <td>f. Social regulations</td>\n",
       "    </tr>\n",
       "  </tbody>\n",
       "</table>\n",
       "<p>77 rows × 2 columns</p>\n",
       "</div>"
      ],
      "text/plain": [
       "                                              Chapter  \\\n",
       "0          Personal prerequisites / Human risk factor   \n",
       "1          Personal prerequisites / Human risk factor   \n",
       "2          Personal prerequisites / Human risk factor   \n",
       "3          Personal prerequisites / Human risk factor   \n",
       "4          Personal prerequisites / Human risk factor   \n",
       "..                                                ...   \n",
       "72  Driving solo motor vehicles and trains, Transp...   \n",
       "73  Driving solo motor vehicles and trains, Transp...   \n",
       "74  Driving solo motor vehicles and trains, Transp...   \n",
       "75  Driving solo motor vehicles and trains, Transp...   \n",
       "76  Driving solo motor vehicles and trains, Transp...   \n",
       "\n",
       "                                              Section  \n",
       "0                a. Restriction of physical abilities  \n",
       "1                                          b. Alcohol  \n",
       "2                      c. Illegal drugs and medicines  \n",
       "3                                         d. Emotions  \n",
       "4   e. Self-perception, rules of driving and roles...  \n",
       "..                                                ...  \n",
       "72                       b. Connecting and separating  \n",
       "73                           c. Driving with trailers  \n",
       "74                             d. Passenger transport  \n",
       "75                                 e. Goods transport  \n",
       "76                              f. Social regulations  \n",
       "\n",
       "[77 rows x 2 columns]"
      ]
     },
     "execution_count": 188,
     "metadata": {},
     "output_type": "execute_result"
    }
   ],
   "source": [
    "df_q_n_a"
   ]
  },
  {
   "cell_type": "code",
   "execution_count": null,
   "id": "22c0e278-6cf8-466c-b74c-d8e8ead30330",
   "metadata": {},
   "outputs": [],
   "source": []
  },
  {
   "cell_type": "code",
   "execution_count": null,
   "id": "9c757535-1606-476f-b222-64795fb8d13b",
   "metadata": {},
   "outputs": [],
   "source": []
  },
  {
   "cell_type": "code",
   "execution_count": 182,
   "id": "ea18ccb7-8006-464d-8567-b49e4789ce19",
   "metadata": {
    "tags": []
   },
   "outputs": [],
   "source": [
    "all_question = []\n",
    "for i in range(23):\n",
    "    \n",
    "    question_text = browser.find_elements_by_xpath(\"//*[@id='siteInner']/div/div[9]/div[2]\")[0].text\n",
    "\n",
    "    if len(browser.find_elements_by_xpath(\"//*[@id='siteInner']/div/div[10]/div[3]/div[1]/div\")[0].text.split(\"\\n\")) > 3:\n",
    "        question_answer_start = browser.find_elements_by_xpath(\"//*[@id='siteInner']/div/div[10]/div[3]/div[1]/div\")[0].text.split(\"\\n\")[0]\n",
    "        question_answer_text1 = browser.find_elements_by_xpath(\"//*[@id='siteInner']/div/div[10]/div[3]/div[1]/div\")[0].text.split(\"\\n\")[-3]\n",
    "        question_answer_text2 = browser.find_elements_by_xpath(\"//*[@id='siteInner']/div/div[10]/div[3]/div[1]/div\")[0].text.split(\"\\n\")[-2]\n",
    "        question_answer_text3 = browser.find_elements_by_xpath(\"//*[@id='siteInner']/div/div[10]/div[3]/div[1]/div\")[0].text.split(\"\\n\")[-1]\n",
    "    else:\n",
    "        question_answer_start = \"\"\n",
    "        question_answer_text1 = browser.find_elements_by_xpath(\"//*[@id='siteInner']/div/div[10]/div[3]/div[1]/div\")[0].text.split(\"\\n\")[-3]\n",
    "        question_answer_text2 = browser.find_elements_by_xpath(\"//*[@id='siteInner']/div/div[10]/div[3]/div[1]/div\")[0].text.split(\"\\n\")[-2]\n",
    "        question_answer_text3 = browser.find_elements_by_xpath(\"//*[@id='siteInner']/div/div[10]/div[3]/div[1]/div\")[0].text.split(\"\\n\")[-1]\n",
    "\n",
    "    question_set = {\"Question\":question_text, \"question_answer_start\":question_answer_start, \"Answer1\":question_answer_text1, \"Answer2\":question_answer_text2,\"Answer3\":question_answer_text1}\n",
    "\n",
    "    all_question.append(question_set)\n",
    "\n",
    "    browser.find_element_by_xpath(\"//*[@id='siteInner']/div/div[10]/div[3]/div[2]/button[3]\").click()\n",
    "    time.sleep(2)"
   ]
  },
  {
   "cell_type": "code",
   "execution_count": 97,
   "id": "8074b4c6-dd17-4059-b8b9-ed0cc781fe4a",
   "metadata": {},
   "outputs": [],
   "source": []
  },
  {
   "cell_type": "code",
   "execution_count": 98,
   "id": "c2608ee5-5f89-4f9a-9542-aa32b498c020",
   "metadata": {},
   "outputs": [
    {
     "ename": "IndexError",
     "evalue": "list index out of range",
     "output_type": "error",
     "traceback": [
      "\u001b[1;31m---------------------------------------------------------------------------\u001b[0m",
      "\u001b[1;31mIndexError\u001b[0m                                Traceback (most recent call last)",
      "\u001b[1;32m<ipython-input-98-660b9857e820>\u001b[0m in \u001b[0;36m<module>\u001b[1;34m\u001b[0m\n\u001b[1;32m----> 1\u001b[1;33m \u001b[0mchapter_names\u001b[0m\u001b[1;33m[\u001b[0m\u001b[1;36m3\u001b[0m\u001b[1;33m]\u001b[0m\u001b[1;33m.\u001b[0m\u001b[0mtext\u001b[0m\u001b[1;33m.\u001b[0m\u001b[0msplit\u001b[0m\u001b[1;33m(\u001b[0m\u001b[1;34m\"\\n\"\u001b[0m\u001b[1;33m)\u001b[0m\u001b[1;33m\u001b[0m\u001b[1;33m\u001b[0m\u001b[0m\n\u001b[0m",
      "\u001b[1;31mIndexError\u001b[0m: list index out of range"
     ]
    }
   ],
   "source": [
    "chapter_names[3].text.split(\"\\n\")"
   ]
  },
  {
   "cell_type": "code",
   "execution_count": 17,
   "id": "c30eb494-ba89-405e-b9da-b22fd19e0e1d",
   "metadata": {},
   "outputs": [
    {
     "data": {
      "text/plain": [
       "'1120 1 65'"
      ]
     },
     "execution_count": 17,
     "metadata": {},
     "output_type": "execute_result"
    }
   ],
   "source": [
    "//*[@id=\"view40e0659d5da241a98e032b94715c28e9\"]/div/div[2]"
   ]
  },
  {
   "cell_type": "code",
   "execution_count": null,
   "id": "cb122620-e8f5-4ca8-9d9e-9c166bf4cf14",
   "metadata": {},
   "outputs": [],
   "source": []
  },
  {
   "cell_type": "code",
   "execution_count": 91,
   "id": "bc2e6e80-82bb-4d4f-be7e-b774406ed004",
   "metadata": {},
   "outputs": [
    {
     "data": {
      "text/plain": [
       "'Restriction of physical abilities\\n23 1 0'"
      ]
     },
     "execution_count": 91,
     "metadata": {},
     "output_type": "execute_result"
    }
   ],
   "source": [
    "chapter_names[2].text"
   ]
  },
  {
   "cell_type": "code",
   "execution_count": 166,
   "id": "18c737aa-91c2-40f0-8dea-c7dc585535c9",
   "metadata": {},
   "outputs": [],
   "source": [
    "############################################## Get all chapter name #######################################################\n",
    "questions = browser.find_elements_by_xpath(\"//*[@id='view3597021268b049d6a6a6fabe7b1b80dd']/div/div\")"
   ]
  },
  {
   "cell_type": "code",
   "execution_count": 117,
   "id": "a1a84ee2-ff8c-420c-a4fd-ad5e9cd51b53",
   "metadata": {},
   "outputs": [],
   "source": [
    "question_text = browser.find_elements_by_xpath(\"//*[@id='siteInner']/div/div[9]/div[2]\")[0].text\n",
    "\n",
    "question_answer_text = browser.find_elements_by_xpath(\"//*[@id='siteInner']/div/div[10]/div[3]/div[1]/div/div\")[0].text\n",
    "\n",
    "//*[@id='siteInner']/div/div[10]/div[3]/div[1]/div/div"
   ]
  },
  {
   "cell_type": "code",
   "execution_count": 123,
   "id": "0dff6928-2f1e-4660-8921-3e344ce5e45f",
   "metadata": {},
   "outputs": [],
   "source": [
    "question_answer_text = browser.find_elements_by_xpath(\"//*[@id='siteInner']/div/div[10]/div[3]/div[1]/div/div\")[0].text.split(\"\\n\")[0]"
   ]
  },
  {
   "cell_type": "code",
   "execution_count": 124,
   "id": "4e589226-01c2-4cbb-8efb-048cd96f9c1a",
   "metadata": {},
   "outputs": [
    {
     "data": {
      "text/plain": [
       "'Tiredness'"
      ]
     },
     "execution_count": 124,
     "metadata": {},
     "output_type": "execute_result"
    }
   ],
   "source": [
    "question_answer_text"
   ]
  },
  {
   "cell_type": "code",
   "execution_count": 137,
   "id": "702cfaff-8403-43a3-a31c-c681c7467f4c",
   "metadata": {},
   "outputs": [],
   "source": [
    "question_answer_text1 = browser.find_elements_by_xpath(\"//*[@id='siteInner']/div/div[10]/div[3]/div[1]/div\")[0].text.split(\"\\n\")[0]"
   ]
  },
  {
   "cell_type": "code",
   "execution_count": 138,
   "id": "7c58b857-6a19-4f77-9885-a241b1ad0f8a",
   "metadata": {},
   "outputs": [
    {
     "data": {
      "text/plain": [
       "'I should'"
      ]
     },
     "execution_count": 138,
     "metadata": {},
     "output_type": "execute_result"
    }
   ],
   "source": [
    "question_answer_text1"
   ]
  },
  {
   "cell_type": "code",
   "execution_count": 149,
   "id": "fc8aa396-ce2c-46d8-b2db-b6eb5559d059",
   "metadata": {},
   "outputs": [
    {
     "data": {
      "text/plain": [
       "['I should',\n",
       " '- if possible, I should avoid operating the device while driving',\n",
       " \"- use the device's voice output function\",\n",
       " '- enter the destination while the vehicle is stationary']"
      ]
     },
     "execution_count": 149,
     "metadata": {},
     "output_type": "execute_result"
    }
   ],
   "source": [
    "browser.find_elements_by_xpath(\"//*[@id='siteInner']/div/div[10]/div[3]/div[1]/div\")[0].text.split(\"\\n\")"
   ]
  },
  {
   "cell_type": "code",
   "execution_count": 152,
   "id": "b4b1503a-6adc-4bc3-91d9-6cf40db1d7f3",
   "metadata": {},
   "outputs": [
    {
     "data": {
      "text/plain": [
       "'- if possible, I should avoid operating the device while driving'"
      ]
     },
     "execution_count": 152,
     "metadata": {},
     "output_type": "execute_result"
    }
   ],
   "source": [
    "browser.find_elements_by_xpath(\"//*[@id='siteInner']/div/div[10]/div[3]/div[1]/div\")[0].text.split(\"\\n\")[-3]"
   ]
  },
  {
   "cell_type": "code",
   "execution_count": 167,
   "id": "ce344097-52e3-4108-a8d1-127c3ed6590e",
   "metadata": {},
   "outputs": [],
   "source": [
    "questions = browser.find_elements_by_xpath(\"//*[@id='view3597021268b049d6a6a6fabe7b1b80dd']/div/div\")\n",
    "\n",
    "all_question = []"
   ]
  },
  {
   "cell_type": "code",
   "execution_count": 168,
   "id": "75c0c404-8bd5-4ef6-865d-6f7cf5158d72",
   "metadata": {
    "jupyter": {
     "source_hidden": true
    },
    "tags": []
   },
   "outputs": [],
   "source": [
    "\n",
    "question_text = browser.find_elements_by_xpath(\"//*[@id='siteInner']/div/div[9]/div[2]\")[0].text\n",
    "\n",
    "if len(browser.find_elements_by_xpath(\"//*[@id='siteInner']/div/div[10]/div[3]/div[1]/div\")[0].text.split(\"\\n\")) > 3:\n",
    "    question_answer_start = browser.find_elements_by_xpath(\"//*[@id='siteInner']/div/div[10]/div[3]/div[1]/div\")[0].text.split(\"\\n\")[0]\n",
    "    question_answer_text1 = browser.find_elements_by_xpath(\"//*[@id='siteInner']/div/div[10]/div[3]/div[1]/div\")[0].text.split(\"\\n\")[-3]\n",
    "    question_answer_text2 = browser.find_elements_by_xpath(\"//*[@id='siteInner']/div/div[10]/div[3]/div[1]/div\")[0].text.split(\"\\n\")[-2]\n",
    "    question_answer_text3 = browser.find_elements_by_xpath(\"//*[@id='siteInner']/div/div[10]/div[3]/div[1]/div\")[0].text.split(\"\\n\")[-1]\n",
    "else:\n",
    "    question_answer_start = \"\"\n",
    "    question_answer_text1 = browser.find_elements_by_xpath(\"//*[@id='siteInner']/div/div[10]/div[3]/div[1]/div\")[0].text.split(\"\\n\")[-3]\n",
    "    question_answer_text2 = browser.find_elements_by_xpath(\"//*[@id='siteInner']/div/div[10]/div[3]/div[1]/div\")[0].text.split(\"\\n\")[-2]\n",
    "    question_answer_text3 = browser.find_elements_by_xpath(\"//*[@id='siteInner']/div/div[10]/div[3]/div[1]/div\")[0].text.split(\"\\n\")[-1]\n",
    "    \n",
    "question_set = {\"Question\":question_text, \"question_answer_start\":question_answer_start, \"Answer1\":question_answer_text1, \"Answer2\":question_answer_text2,\"Answer3\":question_answer_text1}\n",
    "\n",
    "all_question.append(question_set)\n",
    "\n",
    "browser.find_element_by_xpath(\"//*[@id='siteInner']/div/div[10]/div[3]/div[2]/button[3]\").click()"
   ]
  },
  {
   "cell_type": "code",
   "execution_count": 181,
   "id": "92f1f2a9-5a08-4328-ba21-0204b5eee5bd",
   "metadata": {},
   "outputs": [
    {
     "data": {
      "text/plain": [
       "[{'Question': 'What could cause the vehicle to leave the road?',\n",
       "  'question_answer_start': '',\n",
       "  'Answer1': 'Tiredness',\n",
       "  'Answer2': 'Inattention',\n",
       "  'Answer3': 'Tiredness'},\n",
       " {'Question': 'You want to make a telephone call while driving. What must you be aware of?',\n",
       "  'question_answer_start': '',\n",
       "  'Answer1': 'I may use the telephone without a hands-free, if the vehicle is moving at walking pace',\n",
       "  'Answer2': 'I may use the telephone without a hands-free unit, if the vehicle is parked in a suitable place, and the engine is fully switched off',\n",
       "  'Answer3': 'I may use the telephone without a hands-free, if the vehicle is moving at walking pace'},\n",
       " {'Question': \"What should you be aware of when driving a car after a long day's work?\",\n",
       "  'question_answer_start': '',\n",
       "  'Answer1': 'I will become tired more quickly',\n",
       "  'Answer2': 'I drive with a lower level of concentration',\n",
       "  'Answer3': 'I will become tired more quickly'},\n",
       " {'Question': 'When should you refrain from using the telephone even if you have a hands-free device?',\n",
       "  'question_answer_start': '',\n",
       "  'Answer1': 'In complicated traffic conditions',\n",
       "  'Answer2': 'If this would distract me',\n",
       "  'Answer3': 'In complicated traffic conditions'},\n",
       " {'Question': 'What is the risk if you become distracted while using electronic devices when driving?',\n",
       "  'question_answer_start': '',\n",
       "  'Answer1': 'I may fail to notice road traffic signs',\n",
       "  'Answer2': 'My stopping distance may be reduced',\n",
       "  'Answer3': 'I may fail to notice road traffic signs'},\n",
       " {'Question': 'You want to use a smartphone mounted on your motor vehicle as a navigation device. What should you observe?',\n",
       "  'question_answer_start': 'I should',\n",
       "  'Answer1': '- if possible, I should avoid operating the device while driving',\n",
       "  'Answer2': '- enter the destination while the vehicle is stationary',\n",
       "  'Answer3': '- if possible, I should avoid operating the device while driving'},\n",
       " {'Question': 'What is the right thing to do if you sense signs of fatigue during a night-time journey?',\n",
       "  'question_answer_start': '',\n",
       "  'Answer1': 'I allow a co-driver to drive, if possible',\n",
       "  'Answer2': 'I decide against taking a break, and fight the tiredness',\n",
       "  'Answer3': 'I allow a co-driver to drive, if possible'},\n",
       " {'Question': 'You receive a telephone call while driving. What must you be aware of?',\n",
       "  'question_answer_start': 'I may use the telephone if',\n",
       "  'Answer1': '- the telephone is not used for longer than 7 seconds here',\n",
       "  'Answer2': '- the telephone in not held in my hand for this purpose',\n",
       "  'Answer3': '- the telephone is not used for longer than 7 seconds here'},\n",
       " {'Question': 'What can result from listening to very loud music while driving a car?',\n",
       "  'question_answer_start': '',\n",
       "  'Answer1': 'The driver fails to detect signals from other traffic',\n",
       "  'Answer2': 'The driver’s responsiveness is enhanced',\n",
       "  'Answer3': 'The driver fails to detect signals from other traffic'},\n",
       " {'Question': 'How can you tell that you are getting tired while you are driving?',\n",
       "  'question_answer_start': '',\n",
       "  'Answer1': 'Heavy eyelids',\n",
       "  'Answer2': 'Quicker reaction time',\n",
       "  'Answer3': 'Heavy eyelids'},\n",
       " {'Question': 'What can happen if you ignore signs of tiredness?',\n",
       "  'question_answer_start': '',\n",
       "  'Answer1': 'Microsleep',\n",
       "  'Answer2': 'Driving mistakes',\n",
       "  'Answer3': 'Microsleep'},\n",
       " {'Question': 'What should you do if you start feeling tired while driving?',\n",
       "  'question_answer_start': '',\n",
       "  'Answer1': 'Take a break straightaway',\n",
       "  'Answer2': 'Listen to stimulating music',\n",
       "  'Answer3': 'Take a break straightaway'},\n",
       " {'Question': 'How does tiredness affect your driving?',\n",
       "  'question_answer_start': '',\n",
       "  'Answer1': 'Limits awareness',\n",
       "  'Answer2': 'Decreases alertness',\n",
       "  'Answer3': 'Limits awareness'},\n",
       " {'Question': 'What can impair fitness to drive?',\n",
       "  'question_answer_start': '',\n",
       "  'Answer1': 'Fatigue',\n",
       "  'Answer2': 'Certain medicines',\n",
       "  'Answer3': 'Fatigue'},\n",
       " {'Question': 'You want to make a telephone call while driving a vehicle. What must you be aware of?',\n",
       "  'question_answer_start': '',\n",
       "  'Answer1': 'Telephoning using a hands-free unit does not distract me',\n",
       "  'Answer2': 'I may be distracted through operating the telephone',\n",
       "  'Answer3': 'Telephoning using a hands-free unit does not distract me'},\n",
       " {'Question': 'What are the effects of listening to loud music - especially with an extremely loud bass volume - in the car?',\n",
       "  'question_answer_start': '',\n",
       "  'Answer1': 'Blind people lose their orientation when they are near the car',\n",
       "  'Answer2': 'The driver’s attention is significantly impaired',\n",
       "  'Answer3': 'Blind people lose their orientation when they are near the car'},\n",
       " {'Question': 'How can fatigue be prevented on a long journey?',\n",
       "  'question_answer_start': '',\n",
       "  'Answer1': 'Gymnastic exercises during stops',\n",
       "  'Answer2': 'By well-timed and sufficient stops for rests',\n",
       "  'Answer3': 'Gymnastic exercises during stops'},\n",
       " {'Question': 'What can diminish alertness in road traffic?',\n",
       "  'question_answer_start': '',\n",
       "  'Answer1': 'Engrossing programs on the car radio',\n",
       "  'Answer2': 'Animated conversation',\n",
       "  'Answer3': 'Engrossing programs on the car radio'},\n",
       " {'Question': 'What strongly distracts you while you are driving?',\n",
       "  'question_answer_start': '',\n",
       "  'Answer1': 'Lighting a cigarette',\n",
       "  'Answer2': 'Telephoning',\n",
       "  'Answer3': 'Lighting a cigarette'},\n",
       " {'Question': 'What activities could pose a highly risky distraction while driving?',\n",
       "  'question_answer_start': '',\n",
       "  'Answer1': 'Writing a text message',\n",
       "  'Answer2': 'Using the telephone even through a hands-free unit',\n",
       "  'Answer3': 'Writing a text message'},\n",
       " {'Question': 'What indications mean you should interrupt your journey?',\n",
       "  'question_answer_start': '',\n",
       "  'Answer1': 'Difficulty keeping your eyes open',\n",
       "  'Answer2': 'Yawning frequently',\n",
       "  'Answer3': 'Difficulty keeping your eyes open'},\n",
       " {'Question': 'Which is the stamp of a responsible driver?',\n",
       "  'question_answer_start': '',\n",
       "  'Answer1': 'He anticipates the mistakes of other road users',\n",
       "  'Answer2': 'He is assertive towards other road traffic',\n",
       "  'Answer3': 'He anticipates the mistakes of other road users'},\n",
       " {'Question': 'Your passenger wants to discuss something with you during the journey. What should you do?',\n",
       "  'question_answer_start': '',\n",
       "  'Answer1': 'I concentrate on',\n",
       "  'Answer2': '- my driving',\n",
       "  'Answer3': 'I concentrate on'}]"
      ]
     },
     "execution_count": 181,
     "metadata": {},
     "output_type": "execute_result"
    }
   ],
   "source": [
    "all_question"
   ]
  },
  {
   "cell_type": "code",
   "execution_count": null,
   "id": "e68a3a35-8413-4b0b-aaa6-97ad53a673cc",
   "metadata": {},
   "outputs": [],
   "source": []
  }
 ],
 "metadata": {
  "kernelspec": {
   "display_name": "Python 3",
   "language": "python",
   "name": "python3"
  },
  "language_info": {
   "codemirror_mode": {
    "name": "ipython",
    "version": 3
   },
   "file_extension": ".py",
   "mimetype": "text/x-python",
   "name": "python",
   "nbconvert_exporter": "python",
   "pygments_lexer": "ipython3",
   "version": "3.7.10"
  }
 },
 "nbformat": 4,
 "nbformat_minor": 5
}
